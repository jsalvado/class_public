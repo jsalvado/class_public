{
 "cells": [
  {
   "cell_type": "code",
   "execution_count": 1,
   "metadata": {
    "ExecuteTime": {
     "end_time": "2020-10-07T19:44:41.580185Z",
     "start_time": "2020-10-07T19:44:36.763995Z"
    }
   },
   "outputs": [],
   "source": [
    "# import necessary modules\n",
    "%matplotlib inline\n",
    "import matplotlib\n",
    "import matplotlib.pyplot as plt\n",
    "import numpy as np\n",
    "from classy import Class\n",
    "import sys \n",
    "import ipywidgets\n",
    "\n",
    "# LCDM parameters\n",
    "common_settings = {'output':'tCl,pCl,lCl,mPk',\n",
    "                   'lensing':'yes',\n",
    "                   # fixed LambdaCDM parameters\n",
    "                   'omega_b':0.022032,\n",
    "                   'omega_cdm':0.12038,\n",
    "                   'h':0.67556,\n",
    "                   'A_s':2.215e-9,\n",
    "                   'n_s':0.9619,\n",
    "                   'tau_reio':0.0925,\n",
    "                   # other output and precision parameters\n",
    "                   'P_k_max_1/Mpc':3.0,\n",
    "                   'longrangescalar':'n',\n",
    "                   'longrangescalar_pt':'n'}  \n",
    "\n",
    "# Matplotlib options\n",
    "plt.rcParams[\"font.serif\"] = ['Computer Modern']\n",
    "plt.rcParams[\"text.usetex\"] = True\n",
    "plt.rcParams[\"lines.linewidth\"] = 3\n",
    "plt.rcParams[\"axes.linewidth\"] = 1.\n",
    "plt.rcParams[\"font.size\"] = 15.\n",
    "plt.rcParams[\"axes.grid\"] = True\n",
    "plt.rcParams[\"grid.linestyle\"] = \"dotted\"\n",
    "plt.rcParams[\"axes.xmargin\"] = 0\n",
    "plt.rcParams[\"xtick.top\"] = True\n",
    "plt.rcParams[\"ytick.right\"] = True\n",
    "plt.rcParams[\"xtick.direction\"] = \"in\"\n",
    "plt.rcParams[\"ytick.direction\"] = \"in\"\n",
    "plt.rcParams[\"xtick.minor.visible\"] = True\n",
    "plt.rcParams[\"ytick.minor.visible\"] = True\n",
    "plt.rcParams[\"figure.figsize\"] = [14.0, 6.0]"
   ]
  },
  {
   "cell_type": "markdown",
   "metadata": {},
   "source": [
    "We first compute $\\Lambda$CDM, with and without neutrino masses"
   ]
  },
  {
   "cell_type": "code",
   "execution_count": 2,
   "metadata": {
    "ExecuteTime": {
     "end_time": "2020-10-07T19:45:07.294429Z",
     "start_time": "2020-10-07T19:44:56.221426Z"
    }
   },
   "outputs": [],
   "source": [
    "# Lambda CDM\n",
    "LCDM = Class()\n",
    "LCDM.set(common_settings)\n",
    "LCDM.compute()\n",
    "\n",
    "CMB_LCDM = LCDM.lensed_cl(2500)\n",
    "ll_LCDM = CMB_LCDM['ell'][2:]\n",
    "clTT_LCDM = CMB_LCDM['tt'][2:]\n",
    "\n",
    "h = LCDM.h() # get reduced Hubble for conversions to 1/Mpc\n",
    "kk = np.logspace(-4,np.log10(3),1000)\n",
    "Pk_LCDM = np.array([LCDM.pk(k*h, 0.)*h**3 for k in kk]) # P(k) in (Mpc/h)**3 at zero redshift\n",
    "\n",
    "# Lambda CDM with massive neutrinos at current Planck limit\n",
    "LCDM_mnu = Class()\n",
    "LCDM_mnu.set(common_settings)\n",
    "LCDM_mnu.set({'N_ur': 0, # No relativistic species\n",
    "          'N_ncdm': 3, # Three massive neutrinos\n",
    "          'm_ncdm': \"0.033, 0.033, 0.033\", # Sum of masses of 0.1 eV\n",
    "          'T_ncdm': \"0.716486, 0.716486, 0.716486\" # N_eff=3.046\n",
    "         })\n",
    "LCDM_mnu.compute()\n",
    "\n",
    "CMB_LCDM_mnu = LCDM_mnu.lensed_cl(2500)\n",
    "ll_LCDM_mnu = CMB_LCDM_mnu['ell'][2:]\n",
    "clTT_LCDM_mnu = CMB_LCDM_mnu['tt'][2:]\n",
    "\n",
    "h = LCDM_mnu.h() # get reduced Hubble for conversions to 1/Mpc\n",
    "Pk_LCDM_mnu = np.array([LCDM_mnu.pk(k*h, 0.)*h**3 for k in kk]) # P(k) in (Mpc/h)**3 at zero redshift"
   ]
  },
  {
   "cell_type": "markdown",
   "metadata": {},
   "source": [
    "And now our model"
   ]
  },
  {
   "cell_type": "code",
   "execution_count": 4,
   "metadata": {
    "ExecuteTime": {
     "end_time": "2020-10-07T19:55:34.066611Z",
     "start_time": "2020-10-07T19:48:33.020515Z"
    }
   },
   "outputs": [
    {
     "name": "stdout",
     "output_type": "stream",
     "text": [
      "Computing m_nu = 0.05 eV\n",
      "\tComputing g m_nu/M = 1e-01\n",
      "\tComputing g m_nu/M = 1e+00\n",
      "\tComputing g m_nu/M = 1e+01\n",
      "\tComputing g m_nu/M = 1e+02\n",
      "\tComputing g m_nu/M = 1e+03\n",
      "\tComputing g m_nu/M = 1e+04\n",
      "\tComputing g m_nu/M = 1e+05\n",
      "\tComputing g m_nu/M = 1e+06\n",
      "\tComputing g m_nu/M = 1e+07\n",
      "Computing m_nu = 0.10 eV\n",
      "\tComputing g m_nu/M = 1e-01\n",
      "\tComputing g m_nu/M = 1e+00\n",
      "\tComputing g m_nu/M = 1e+01\n",
      "\tComputing g m_nu/M = 1e+02\n",
      "\tComputing g m_nu/M = 1e+03\n",
      "\tComputing g m_nu/M = 1e+04\n",
      "\tComputing g m_nu/M = 1e+05\n",
      "\tComputing g m_nu/M = 1e+06\n",
      "\tComputing g m_nu/M = 1e+07\n",
      "Computing m_nu = 1.00 eV\n",
      "\tComputing g m_nu/M = 1e-01\n",
      "\tComputing g m_nu/M = 1e+00\n",
      "\tComputing g m_nu/M = 1e+01\n",
      "\tComputing g m_nu/M = 1e+02\n",
      "\tComputing g m_nu/M = 1e+03\n",
      "\tComputing g m_nu/M = 1e+04\n",
      "\tComputing g m_nu/M = 1e+05\n",
      "\tComputing g m_nu/M = 1e+06\n",
      "\tComputing g m_nu/M = 1e+07\n"
     ]
    }
   ],
   "source": [
    "# Our modification\n",
    "ll_lrs = {}\n",
    "clTT_lrs = {}\n",
    "Pk_lrs = {}\n",
    "\n",
    "lrs = Class()\n",
    "lrs.set(common_settings)\n",
    "lrs.set({'N_ur':0}) # Remove massless neutrinos\n",
    "\n",
    "for m_nu in [0.05, 0.1, 1]:\n",
    "    print(\"Computing m_nu = %.2f eV\" % m_nu)\n",
    "    sys.stdout.flush()\n",
    "    for g_mnu_over_M in np.geomspace(1e-1, 1e7, 9):\n",
    "        print(\"\\tComputing g m_nu/M = %.0e\" % g_mnu_over_M)\n",
    "        sys.stdout.flush()\n",
    "        lrs.set({'longrangescalar':'y',\n",
    "                 'longrangescalar_pt':'n',\n",
    "                 'longrangescalar_nuggets':'y',\n",
    "                 'log10_lrs':'n',\n",
    "                 'lrs_M_phi': 1e-10,\n",
    "                 'lrs_m_F': m_nu, # Mass of the sourcing fermion [eV]\n",
    "                 'lrs_g_over_M': g_mnu_over_M/m_nu, # Coupling divided by the scalar mass [eV^-1]\n",
    "                 'lrs_g_F': 6, # Number of fermionic degrees of freedom\n",
    "                 'lrs_T_F': 0.716486 # Ratio among the fermionic and photon temperatures. This is (4/11)^1/3 * (N_eff/3)^1/4})\n",
    "                })\n",
    "    \n",
    "        lrs.compute()\n",
    "\n",
    "        CMB_lrs = lrs.lensed_cl(2500)\n",
    "        ll_lrs[(m_nu, g_mnu_over_M)] = CMB_lrs['ell'][2:]\n",
    "        clTT_lrs[(m_nu, g_mnu_over_M)] = CMB_lrs['tt'][2:]\n",
    "\n",
    "        h = lrs.h() # get reduced Hubble for conversions to 1/Mpc\n",
    "        Pk_lrs[(m_nu, g_mnu_over_M)] = np.array([lrs.pk(k*h, 0.)*h**3 for k in kk]) # P(k) in (Mpc/h)**3 at zero redshift"
   ]
  },
  {
   "cell_type": "code",
   "execution_count": 5,
   "metadata": {
    "ExecuteTime": {
     "end_time": "2020-10-07T19:55:36.368170Z",
     "start_time": "2020-10-07T19:55:34.069599Z"
    }
   },
   "outputs": [
    {
     "data": {
      "application/vnd.jupyter.widget-view+json": {
       "model_id": "db7712db12a64d2e97da279eb9d28746",
       "version_major": 2,
       "version_minor": 0
      },
      "text/plain": [
       "interactive(children=(Dropdown(description='m_nu', options=(1, 0.1, 0.05), value=1), FloatSlider(value=0.0, co…"
      ]
     },
     "metadata": {},
     "output_type": "display_data"
    },
    {
     "data": {
      "text/plain": [
       "<function __main__.plot_CMB(m_nu, log10_g_mnu_over_M)>"
      ]
     },
     "execution_count": 5,
     "metadata": {},
     "output_type": "execute_result"
    }
   ],
   "source": [
    "# Plot the CMB\n",
    "plt.rcParams[\"figure.figsize\"] = [28.0, 12.0]\n",
    "plt.rcParams[\"font.size\"] = 30.\n",
    "\n",
    "def plot_CMB(m_nu, log10_g_mnu_over_M):\n",
    "    g_mnu_over_M = 10**log10_g_mnu_over_M\n",
    "    plt.subplot(1, 2, 1)\n",
    "    plt.xscale(\"log\")\n",
    "    plt.xlabel(r'$\\ell$')\n",
    "    plt.ylabel(r'$[\\ell(\\ell+1)/2\\pi]  C_\\ell^\\mathrm{TT}$')\n",
    "    plt.plot(ll_LCDM,clTT_LCDM*ll_LCDM*(ll_LCDM+1)/2./np.pi, \n",
    "             label=r\"$\\Lambda$CDM\", linewidth=2)\n",
    "    plt.plot(ll_LCDM_mnu,clTT_LCDM_mnu*ll_LCDM_mnu*(ll_LCDM_mnu+1)/2./np.pi, \n",
    "             label=r\"$\\Lambda$CDM, $m_\\nu=1$ eV\", linewidth=2.5, linestyle=\"dashed\")\n",
    "\n",
    "    plt.plot(ll_lrs[(m_nu, g_mnu_over_M)],\n",
    "             clTT_lrs[(m_nu, g_mnu_over_M)]*ll_lrs[(m_nu, g_mnu_over_M)]*(ll_lrs[(m_nu, g_mnu_over_M)]+1)/2./np.pi, \n",
    "             label=r\"$m_\\nu=%.2f$ eV, $\\frac{g m_\\nu}{M} = 10^%i$\" % (m_nu, log10_g_mnu_over_M), linewidth=2)\n",
    "\n",
    "    plt.legend()\n",
    "\n",
    "    plt.subplot(1, 2, 2)\n",
    "    plt.xscale(\"log\")\n",
    "    plt.xlabel(r'$\\ell$')\n",
    "    plt.plot(ll_LCDM,(clTT_LCDM - clTT_lrs[(m_nu, g_mnu_over_M)])/clTT_LCDM, \n",
    "             label=r\"$\\frac{{C_\\ell^\\mathrm{TT}}_{\\Lambda\\mathrm{CDM}} - {C_\\ell^\\mathrm{TT}}_\\mathrm{mod}}{{C_\\ell^\\mathrm{TT}}_{\\Lambda\\mathrm{CDM}}}$\",\n",
    "             linewidth=2.5, color=\"C2\")\n",
    "    plt.plot(ll_LCDM,(clTT_LCDM - clTT_LCDM_mnu)/clTT_LCDM, \n",
    "             label=r\"$\\frac{{C_\\ell^\\mathrm{TT}}_{\\Lambda\\mathrm{CDM}} - {C_\\ell^\\mathrm{TT}}_\\mathrm{\\Lambda\\mathrm{CDM}, m_\\nu}}{{C_\\ell^\\mathrm{TT}}_{\\Lambda\\mathrm{CDM}}}$\",\n",
    "             linewidth=2.5, color=\"C1\", linestyle=\"dashed\")\n",
    "    \n",
    "ipywidgets.interact(plot_CMB, m_nu = [1, 0.1, 0.05], \n",
    "                    log10_g_mnu_over_M=ipywidgets.FloatSlider(min=-1, max=7, step=1, continuous_update=False))"
   ]
  },
  {
   "cell_type": "code",
   "execution_count": 27,
   "metadata": {
    "ExecuteTime": {
     "end_time": "2020-05-06T17:44:52.443990Z",
     "start_time": "2020-05-06T17:44:50.948611Z"
    }
   },
   "outputs": [
    {
     "data": {
      "application/vnd.jupyter.widget-view+json": {
       "model_id": "0102874186284abcb4ca4036ffdccc72",
       "version_major": 2,
       "version_minor": 0
      },
      "text/plain": [
       "interactive(children=(Dropdown(description='m_nu', options=(1, 0.1, 0.05), value=1), FloatSlider(value=0.0, co…"
      ]
     },
     "metadata": {},
     "output_type": "display_data"
    },
    {
     "data": {
      "text/plain": [
       "<function __main__.plot_LSS(m_nu, log10_g_mnu_over_M)>"
      ]
     },
     "execution_count": 27,
     "metadata": {},
     "output_type": "execute_result"
    }
   ],
   "source": [
    "# Plot LSS\n",
    "plt.rcParams[\"figure.figsize\"] = [28.0, 12.0]\n",
    "plt.rcParams[\"font.size\"] = 30.\n",
    "\n",
    "def plot_LSS(m_nu, log10_g_mnu_over_M):\n",
    "    g_mnu_over_M = 10**log10_g_mnu_over_M\n",
    "    plt.subplot(1, 2, 1)\n",
    "    plt.xscale(\"log\")\n",
    "    plt.yscale(\"log\")\n",
    "    plt.xlabel(r'$k \\,\\,\\,\\, [h/\\mathrm{Mpc}]$')\n",
    "    plt.ylabel(r'$P(k) \\,\\,\\,\\, [\\mathrm{Mpc}/h]^3$')\n",
    "    plt.plot(kk,Pk_LCDM, label=r\"$\\Lambda$CDM\", linewidth=2.5)\n",
    "    plt.plot(kk,Pk_LCDM_mnu, label=r\"$\\Lambda$CDM, $m_\\nu=1$ eV\", linestyle=\"dashed\", linewidth=2)\n",
    "    plt.plot(kk,Pk_lrs[(m_nu, g_mnu_over_M)],\n",
    "             label=r\"$m_\\nu=%.2f$ eV, $\\frac{g m_\\nu}{M} = 10^%i$\" % (m_nu, log10_g_mnu_over_M), linewidth=2)\n",
    "    plt.legend()\n",
    "\n",
    "    plt.subplot(1, 2, 2)\n",
    "    plt.xscale(\"log\")\n",
    "    plt.xlabel(r'$k \\,\\,\\,\\, [h/\\mathrm{Mpc}]$')\n",
    "    plt.plot(kk,(Pk_LCDM - Pk_lrs[(m_nu, g_mnu_over_M)])/Pk_LCDM, \n",
    "             label=r\"$\\frac{P(k)_{\\Lambda\\mathrm{CDM}} - P(k)_\\mathrm{mod}}{P(k)_{\\Lambda\\mathrm{CDM}}}$\",\n",
    "             linewidth=2.5, color=\"C2\")\n",
    "    plt.plot(kk,(Pk_LCDM - Pk_LCDM_mnu)/Pk_LCDM, \n",
    "             label=r\"$\\frac{P(k)_{\\Lambda\\mathrm{CDM}} - P(k)_\\mathrm{\\Lambda\\mathrm{CDM}, m_\\nu}}{P(k)_{\\Lambda\\mathrm{CDM}}}$\",\n",
    "             linewidth=2.5, linestyle=\"dashed\", color=\"C1\")\n",
    "    plt.legend()\n",
    "    \n",
    "ipywidgets.interact(plot_LSS, m_nu = [1, 0.1, 0.05], \n",
    "                    log10_g_mnu_over_M=ipywidgets.FloatSlider(min=-1, max=7, step=1, continuous_update=False))"
   ]
  },
  {
   "cell_type": "code",
   "execution_count": null,
   "metadata": {},
   "outputs": [],
   "source": []
  }
 ],
 "metadata": {
  "kernelspec": {
   "display_name": "Python 3",
   "language": "python",
   "name": "python3"
  },
  "language_info": {
   "codemirror_mode": {
    "name": "ipython",
    "version": 3
   },
   "file_extension": ".py",
   "mimetype": "text/x-python",
   "name": "python",
   "nbconvert_exporter": "python",
   "pygments_lexer": "ipython3",
   "version": "3.6.8"
  }
 },
 "nbformat": 4,
 "nbformat_minor": 1
}
